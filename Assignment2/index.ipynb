{
 "cells": [
  {
   "cell_type": "code",
   "execution_count": null,
   "id": "8f8f66fc",
   "metadata": {},
   "outputs": [
    {
     "name": "stdout",
     "output_type": "stream",
     "text": [
      "[ 1  2  3  4  5  6  7  8  9 10]\n",
      "Shape: (10,)\n",
      "Size: 10\n",
      "Data type: int32\n",
      "\n",
      "[[1 2 3]\n",
      " [4 5 6]\n",
      " [7 8 9]]\n",
      "Shape: (3, 3)\n",
      "Size: 9\n",
      "Data type: int32\n",
      "\n",
      "[[[0.51891421 0.61108793 0.22466026]\n",
      "  [0.56029203 0.96400448 0.2575127 ]\n",
      "  [0.77774341 0.49429128 0.07560505]\n",
      "  [0.57046684 0.00266308 0.64406544]\n",
      "  [0.49847043 0.69171721 0.45092523]]\n",
      "\n",
      " [[0.65161213 0.02135081 0.69167758]\n",
      "  [0.69066955 0.57194501 0.3492309 ]\n",
      "  [0.49363009 0.25244266 0.72058043]\n",
      "  [0.06015545 0.88281825 0.3560016 ]\n",
      "  [0.48737826 0.69568288 0.68233367]]\n",
      "\n",
      " [[0.18893455 0.2306777  0.32948723]\n",
      "  [0.41744047 0.78625312 0.56839898]\n",
      "  [0.00899418 0.04778915 0.35781762]\n",
      "  [0.07598651 0.03536504 0.76147351]\n",
      "  [0.23997636 0.85848706 0.59813045]]]\n",
      "Shape: (3, 5, 3)\n",
      "Size: 45\n",
      "Data type: float64\n"
     ]
    }
   ],
   "source": [
    "# Task 1\n",
    "import numpy as np\n",
    "\n",
    "array = np.arange(1, 11)\n",
    "print(array)\n",
    "print(\"Shape:\", array.shape)\n",
    "print(\"Size:\", array.size)\n",
    "print(\"Data type:\", array.dtype)\n",
    "print()\n",
    "\n",
    "array = np.arange(1, 10).reshape(3, 3)\n",
    "print(array)\n",
    "print(\"Shape:\", array.shape)\n",
    "print(\"Size:\", array.size)\n",
    "print(\"Data type:\", array.dtype)\n",
    "print()\n",
    "\n",
    "array = np.random.rand(3, 5, 3)\n",
    "print(array)\n",
    "print(\"Shape:\", array.shape)\n",
    "print(\"Size:\", array.size)\n",
    "print(\"Data type:\", array.dtype)\n"
   ]
  },
  {
   "cell_type": "code",
   "execution_count": 4,
   "id": "2557ddef",
   "metadata": {},
   "outputs": [
    {
     "name": "stdout",
     "output_type": "stream",
     "text": [
      "Original data: [10, 20, 30, 40, 50, 60, 70, 80, 90]\n",
      "First 3 elements: [10, 20, 30]\n",
      "All elements: [10, 30, 50, 70, 90]\n",
      "Reverse Array: [90, 80, 70, 60, 50, 40, 30, 20, 10]\n"
     ]
    }
   ],
   "source": [
    "# Task 2\n",
    "data = [10, 20, 30, 40, 50, 60, 70, 80, 90]\n",
    "\n",
    "print(\"Original data:\", data)\n",
    "\n",
    "print(\"First 3 elements:\", data[:3])\n",
    "\n",
    "print(\"All elements:\", data[::2])\n",
    "\n",
    "print (\"Reverse Array:\", data[::-1])\n"
   ]
  },
  {
   "cell_type": "code",
   "execution_count": null,
   "id": "484ec0e7",
   "metadata": {},
   "outputs": [
    {
     "name": "stdout",
     "output_type": "stream",
     "text": [
      "Random array: [14  7 16  8  2]\n",
      "Random array: [15 18  1 16  3]\n",
      "Sum of two arrays: [29 25 17 24  5]\n",
      "Subtraction of two arrays: [ -1 -11  15  -8  -1]\n",
      "Multiplication of two arrays: [210 126  16 128   6]\n",
      "Division of two arrays: [ 0.93333333  0.38888889 16.          0.5         0.66666667]\n",
      "\n",
      "Dot product of two arrays: 486\n",
      "Mean of array A: 9.4\n",
      "Median of array A: 8.0\n",
      "Standard Deviation of array A: 5.043808085167397\n",
      "Variance of array A: 25.44\n",
      "Maximum value in array B: 18 at index 1\n",
      "Minimum value in array B: 1 at index 2\n"
     ]
    }
   ],
   "source": [
    "# Task 3\n",
    "array1 = np.random.randint(1,20,5)\n",
    "array2 = np.random.randint(1,20,5)\n",
    "print(\"Random array:\", array1)\n",
    "print(\"Random array:\", array2)\n",
    "\n",
    "sum = array1+array2\n",
    "print(\"Sum of two arrays:\", sum)\n",
    "\n",
    "sub = array1-array2\n",
    "print(\"Subtraction of two arrays:\", sub)\n",
    "\n",
    "mul = array1*array2\n",
    "print(\"Multiplication of two arrays:\", mul)\n",
    "\n",
    "div = array1/array2\n",
    "print(\"Division of two arrays:\", div)\n",
    "\n",
    "print()\n",
    "\n",
    "dotproduct = np.dot(array1, array2)\n",
    "print(\"Dot product of two arrays:\", dotproduct)\n",
    "\n",
    "mean = np.mean(array1)\n",
    "median = np.median(array1)\n",
    "std_dev = np.std(array1)\n",
    "variance = np.var(array1)\n",
    "print(\"Mean of array A:\", mean)\n",
    "print(\"Median of array A:\", median)\n",
    "print(\"Standard Deviation of array A:\", std_dev)\n",
    "print(\"Variance of array A:\", variance)\n",
    "\n",
    "max_value = np.max(array2)\n",
    "min_value = np.min(array2)\n",
    "max_index = np.argmax(array2)\n",
    "min_index = np.argmin(array2)\n",
    "print(\"Maximum value in array B:\", max_value, \"at index\", max_index)\n",
    "print(\"Minimum value in array B:\", min_value, \"at index\", min_index)\n",
    "\n",
    "\n",
    "\n",
    "\n",
    "\n"
   ]
  },
  {
   "cell_type": "code",
   "execution_count": null,
   "id": "23eddce7",
   "metadata": {},
   "outputs": [],
   "source": []
  },
  {
   "cell_type": "code",
   "execution_count": null,
   "id": "03541cc9",
   "metadata": {},
   "outputs": [],
   "source": []
  }
 ],
 "metadata": {
  "kernelspec": {
   "display_name": "Python 3",
   "language": "python",
   "name": "python3"
  },
  "language_info": {
   "codemirror_mode": {
    "name": "ipython",
    "version": 3
   },
   "file_extension": ".py",
   "mimetype": "text/x-python",
   "name": "python",
   "nbconvert_exporter": "python",
   "pygments_lexer": "ipython3",
   "version": "3.12.10"
  }
 },
 "nbformat": 4,
 "nbformat_minor": 5
}
