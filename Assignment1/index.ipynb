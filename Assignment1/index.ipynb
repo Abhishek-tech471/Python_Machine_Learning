{
 "cells": [
  {
   "cell_type": "code",
   "execution_count": 5,
   "id": "88463bd0",
   "metadata": {},
   "outputs": [
    {
     "name": "stdout",
     "output_type": "stream",
     "text": [
      "You are an adult.\n"
     ]
    }
   ],
   "source": [
    "class Adult(Exception):\n",
    "    pass\n",
    "\n",
    "def CheckAge(age):\n",
    "    if age < 18:\n",
    "        raise Adult(\"You are not an adult yet.\")\n",
    "    else:\n",
    "        return \"You are an adult.\"\n",
    "    \n",
    "try:\n",
    "    age = int(input(\"Enter your age: \"))\n",
    "    result = CheckAge(age)\n",
    "    print(result)\n",
    "except ValueError:\n",
    "    print(\"Please enter a valid number for age.\")"
   ]
  },
  {
   "cell_type": "code",
   "execution_count": 8,
   "id": "fae0b750",
   "metadata": {},
   "outputs": [
    {
     "name": "stdout",
     "output_type": "stream",
     "text": [
      "Data written to matrix.csv\n",
      "Data read from CSV:\n",
      "[1, 2, 3]\n",
      "[4, 5, 6]\n",
      "[7, 8, 9]\n"
     ]
    }
   ],
   "source": [
    "import csv\n",
    "\n",
    "Array = [\n",
    "    [1, 2, 3],\n",
    "    [4, 5, 6],\n",
    "    [7, 8, 9]\n",
    "]\n",
    "\n",
    "def write_to_csv(data, filename):\n",
    "    with open(filename, mode='w', newline='') as file:\n",
    "        writer = csv.writer(file)\n",
    "        writer.writerows(data)\n",
    "    print(\"Data written to\", filename)\n",
    "\n",
    "def read_from_csv(filename):\n",
    "    with open(filename, mode='r') as file:\n",
    "        reader = csv.reader(file)\n",
    "        result = []\n",
    "        for row in reader:\n",
    "            result.append([int(value) for value in row])\n",
    "    return result\n",
    "\n",
    "# Usage\n",
    "csv_file = \"matrix.csv\"\n",
    "\n",
    "write_to_csv(Array, csv_file)\n",
    "loaded_matrix = read_from_csv(csv_file)\n",
    "\n",
    "print(\"Data read from CSV:\")\n",
    "for row in loaded_matrix:\n",
    "    print(row)\n"
   ]
  }
 ],
 "metadata": {
  "kernelspec": {
   "display_name": "Python 3",
   "language": "python",
   "name": "python3"
  },
  "language_info": {
   "codemirror_mode": {
    "name": "ipython",
    "version": 3
   },
   "file_extension": ".py",
   "mimetype": "text/x-python",
   "name": "python",
   "nbconvert_exporter": "python",
   "pygments_lexer": "ipython3",
   "version": "3.12.10"
  }
 },
 "nbformat": 4,
 "nbformat_minor": 5
}
